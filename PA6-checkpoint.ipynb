{
 "cells": [
  {
   "cell_type": "markdown",
   "id": "8650f582",
   "metadata": {},
   "source": [
    "# Tristan Beckmann\n",
    "\n",
    "# 2023SP Computer Prog for Liberal Arts (CS-150-01)\n",
    "## Programming Assignment 6 - Version 1\n",
    "### Spring 2023"
   ]
  },
  {
   "cell_type": "code",
   "execution_count": 4,
   "id": "34f912ec",
   "metadata": {},
   "outputs": [
    {
     "name": "stdout",
     "output_type": "stream",
     "text": [
      "Enter the length of side one: 1\n",
      "Enter the length of side two: 2\n",
      "Enter the length of side three: 3\n",
      "The area of the triangle is: 0.75  square units\n",
      "The perimeter of the triangle is: 6 units\n"
     ]
    }
   ],
   "source": [
    "h=1\n",
    "b=1\n",
    "w=1\n",
    "\n",
    "def calcperim(h,b,w):\n",
    "    return(h+b+w)\n",
    "def calcarea(h,b,w):\n",
    "    return((s * (s - h) * (s - b) * (s - w)) ** 0.5)\n",
    "\n",
    "s=calcperim(h,b,w)*.5\n",
    "h=int(input('Enter the length of side one: '))\n",
    "b=int(input('Enter the length of side two: '))\n",
    "w=int(input('Enter the length of side three: '))\n",
    "print('The area of the triangle is: {:.2f} ' .format(calcarea(h,b,w)),'square units')\n",
    "print('The perimeter of the triangle is:', calcperim(h,b,w),'units')"
   ]
  },
  {
   "cell_type": "code",
   "execution_count": 5,
   "id": "a81d7a47",
   "metadata": {},
   "outputs": [
    {
     "name": "stdout",
     "output_type": "stream",
     "text": [
      "Enter a number from 1 to 1000: 2\n",
      "Too low. Guess again.\n",
      "Enter a number from 1 to 1000: 3\n",
      "Too low. Guess again.\n",
      "Enter a number from 1 to 1000: 100\n",
      "Too low. Guess again.\n",
      "Enter a number from 1 to 1000: 200\n",
      "Too low. Guess again.\n",
      "Enter a number from 1 to 1000: 400\n",
      "Too low. Guess again.\n",
      "Enter a number from 1 to 1000: 700\n",
      "Too high. Guess again\n",
      "Enter a number from 1 to 1000: 500\n",
      "Too high. Guess again\n",
      "Enter a number from 1 to 1000: 450\n",
      "Too high. Guess again\n",
      "Enter a number from 1 to 1000: 440\n",
      "Too low. Guess again.\n",
      "Enter a number from 1 to 1000: 445\n",
      "Too low. Guess again.\n",
      "Enter a number from 1 to 1000: 446\n",
      "Too low. Guess again.\n",
      "Enter a number from 1 to 1000: 447\n",
      "Too low. Guess again.\n",
      "Enter a number from 1 to 1000: 448\n",
      "Too low. Guess again.\n",
      "Enter a number from 1 to 1000: 449\n",
      "Correct\n"
     ]
    }
   ],
   "source": [
    "import random\n",
    "number=random.randint(1,1000)  \n",
    "enterednum=None\n",
    "\n",
    "\n",
    "while enterednum!=number:\n",
    "    evaluateGuess= int(input('Enter a number from 1 to 1000: '))\n",
    "    if evaluateGuess==number:\n",
    "        print('Correct') \n",
    "    if evaluateGuess==number:\n",
    "        break\n",
    "    if evaluateGuess<number:\n",
    "        print('Too low. Guess again.')\n",
    "    if evaluateGuess>number:\n",
    "        print('Too high. Guess again')"
   ]
  },
  {
   "cell_type": "code",
   "execution_count": 10,
   "id": "c06b25f8",
   "metadata": {},
   "outputs": [
    {
     "name": "stdout",
     "output_type": "stream",
     "text": [
      "Over the past 7 days, the average temperature has been 35.714285714285715 degrees fahrenheight.\n"
     ]
    }
   ],
   "source": [
    "from statistics import mean\n",
    "total=0\n",
    "meanTemp=[39,37,26,35,46,33,34]\n",
    "for f in range(0, len(meanTemp)):\n",
    "    total = total + meanTemp[f]\n",
    "print('Over the past' , len(meanTemp), 'days, the average temperature has been' ,total/len(meanTemp),'degrees fahrenheight.')"
   ]
  },
  {
   "cell_type": "code",
   "execution_count": null,
   "id": "bd23961c",
   "metadata": {},
   "outputs": [],
   "source": []
  }
 ],
 "metadata": {
  "kernelspec": {
   "display_name": "Python 3 (ipykernel)",
   "language": "python",
   "name": "python3"
  },
  "language_info": {
   "codemirror_mode": {
    "name": "ipython",
    "version": 3
   },
   "file_extension": ".py",
   "mimetype": "text/x-python",
   "name": "python",
   "nbconvert_exporter": "python",
   "pygments_lexer": "ipython3",
   "version": "3.9.13"
  }
 },
 "nbformat": 4,
 "nbformat_minor": 5
}
